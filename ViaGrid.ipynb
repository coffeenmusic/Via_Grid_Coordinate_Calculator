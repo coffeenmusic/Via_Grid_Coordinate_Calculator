{
 "cells": [
  {
   "cell_type": "code",
   "execution_count": 1,
   "metadata": {},
   "outputs": [],
   "source": [
    "import matplotlib.pyplot as plt"
   ]
  },
  {
   "cell_type": "code",
   "execution_count": 131,
   "metadata": {},
   "outputs": [],
   "source": [
    "# Note dimensions not relevant as long as they are consistent across center_x, center_y, and spacing\n",
    "center_x = 3030.6\n",
    "center_y = 6233.2\n",
    "spacing = 50\n",
    "\n",
    "# Dimension is the row and column count\n",
    "def calc_grid(center_x, center_y, dim=3, spacing=50):\n",
    "    grid_x = []\n",
    "    grid_y = []\n",
    "    \n",
    "    min_x = center_x - 0.5*(dim-1)*spacing\n",
    "    min_y = center_y - 0.5*(dim-1)*spacing\n",
    "    for x in range(dim):\n",
    "        for y in range(dim):\n",
    "            grid_x += [min_x + x*spacing]\n",
    "            grid_y += [min_y + y*spacing]\n",
    "            \n",
    "        \n",
    "    return grid_x, grid_y"
   ]
  },
  {
   "cell_type": "code",
   "execution_count": 132,
   "metadata": {},
   "outputs": [
    {
     "name": "stdout",
     "output_type": "stream",
     "text": [
      "x:3080.6, y:6233.2\n",
      "x:3080.6, y:6283.2\n",
      "x:3080.6, y:6183.2\n",
      "x:2980.6, y:6233.2\n",
      "x:2980.6, y:6283.2\n",
      "x:2980.6, y:6183.2\n",
      "x:3030.6, y:6233.2\n",
      "x:3030.6, y:6283.2\n",
      "x:3030.6, y:6183.2\n"
     ]
    }
   ],
   "source": [
    "grid_x, grid_y = calc_grid(center_x, center_y, dim=3, spacing=spacing)\n",
    "for x in set(grid_x):\n",
    "    for y in set(grid_y):\n",
    "        print('x:{}, y:{}'.format(x, y))"
   ]
  },
  {
   "cell_type": "code",
   "execution_count": 133,
   "metadata": {},
   "outputs": [
    {
     "data": {
      "image/png": "[encoded data removed]",
      "text/plain": [
       "<Figure size 432x288 with 1 Axes>"
      ]
     },
     "metadata": {},
     "output_type": "display_data"
    }
   ],
   "source": [
    "plt.plot(grid_x, grid_y, 'bo')\n",
    "plt.plot(center_x, center_y, 'rs')\n",
    "plt.xlabel('x')\n",
    "plt.ylabel('y')\n",
    "plt.show()"
   ]
  },
  {
   "cell_type": "code",
   "execution_count": null,
   "metadata": {},
   "outputs": [],
   "source": []
  }
 ],
 "metadata": {
  "kernelspec": {
   "display_name": "Python 3",
   "language": "python",
   "name": "python3"
  },
  "language_info": {
   "codemirror_mode": {
    "name": "ipython",
    "version": 3
   },
   "file_extension": ".py",
   "mimetype": "text/x-python",
   "name": "python",
   "nbconvert_exporter": "python",
   "pygments_lexer": "ipython3",
   "version": "3.6.6"
  }
 },
 "nbformat": 4,
 "nbformat_minor": 2
}
